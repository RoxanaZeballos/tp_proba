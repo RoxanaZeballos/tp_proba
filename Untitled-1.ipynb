{
 "cells": [
  {
   "cell_type": "code",
   "execution_count": 1,
   "metadata": {},
   "outputs": [
    {
     "name": "stdout",
     "output_type": "stream",
     "text": [
      "Pandas version: 2.2.2\n",
      "NumPy version: 2.1.1\n",
      "Seaborn version: 0.13.2\n",
      "SciPy version: 1.14.1\n",
      "Matplotlib version: 3.9.2\n"
     ]
    }
   ],
   "source": [
    "import pandas as pd  # el formato es import \"librería\" as \"nombre con el la queremos llamar\".\n",
    "import matplotlib.pyplot as plt # matplotlib es una librería para hacer gráficos.\n",
    "import numpy as np # numpy es una librería para hacer cuentas de forma eficiente.\n",
    "import seaborn as sb # libreria para grafico de barras.\n",
    "import scipy as sc\n",
    "import matplotlib  # Importar el módulo principal de matplotlib\n",
    "\n",
    "# Imprimir versiones de las bibliotecas\n",
    "print(\"Pandas version:\", pd.__version__)\n",
    "print(\"NumPy version:\", np.__version__)\n",
    "print(\"Seaborn version:\", sb.__version__)\n",
    "print(\"SciPy version:\", sc.__version__)\n",
    "print(\"Matplotlib version:\", matplotlib.__version__)  # Obtener la versión desde el módulo principal\n",
    "\n"
   ]
  }
 ],
 "metadata": {
  "kernelspec": {
   "display_name": "Python 3",
   "language": "python",
   "name": "python3"
  },
  "language_info": {
   "codemirror_mode": {
    "name": "ipython",
    "version": 3
   },
   "file_extension": ".py",
   "mimetype": "text/x-python",
   "name": "python",
   "nbconvert_exporter": "python",
   "pygments_lexer": "ipython3",
   "version": "3.11.9"
  }
 },
 "nbformat": 4,
 "nbformat_minor": 2
}
